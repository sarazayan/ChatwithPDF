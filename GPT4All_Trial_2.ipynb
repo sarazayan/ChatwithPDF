{
  "nbformat": 4,
  "nbformat_minor": 0,
  "metadata": {
    "colab": {
      "provenance": [],
      "machine_shape": "hm",
      "authorship_tag": "ABX9TyOAJ2myFOp2BBDRkjFYN/si",
      "include_colab_link": true
    },
    "kernelspec": {
      "name": "python3",
      "display_name": "Python 3"
    },
    "language_info": {
      "name": "python"
    }
  },
  "cells": [
    {
      "cell_type": "markdown",
      "metadata": {
        "id": "view-in-github",
        "colab_type": "text"
      },
      "source": [
        "<a href=\"https://colab.research.google.com/github/sarazayan/ChatwithPDF/blob/main/GPT4All_Trial_2.ipynb\" target=\"_parent\"><img src=\"https://colab.research.google.com/assets/colab-badge.svg\" alt=\"Open In Colab\"/></a>"
      ]
    },
    {
      "cell_type": "code",
      "source": [
        "from google.colab import drive\n",
        "drive.mount('/content/drive/')"
      ],
      "metadata": {
        "colab": {
          "base_uri": "https://localhost:8080/"
        },
        "id": "RRkWFAqHbBvu",
        "outputId": "dd9ac74e-7f8f-42cb-abf4-acb4da8b9b1c"
      },
      "execution_count": null,
      "outputs": [
        {
          "output_type": "stream",
          "name": "stdout",
          "text": [
            "Drive already mounted at /content/drive/; to attempt to forcibly remount, call drive.mount(\"/content/drive/\", force_remount=True).\n"
          ]
        }
      ]
    },
    {
      "cell_type": "code",
      "source": [
        "!ls '/content/drive/MyDrive/Multiple_PDFs'"
      ],
      "metadata": {
        "colab": {
          "base_uri": "https://localhost:8080/"
        },
        "id": "BPdme-mIb-ra",
        "outputId": "c5a16513-697a-4894-b44a-eb6d3fe451e4"
      },
      "execution_count": null,
      "outputs": [
        {
          "output_type": "stream",
          "name": "stdout",
          "text": [
            "2021_02_04_PR_Carbon_Neutrality_objectives.pdf\n",
            "Artificial_Intelligence_in_Business.pdf\n",
            "Mckinsey_HowAICanChangeyourBusiness.pdf\n"
          ]
        }
      ]
    },
    {
      "cell_type": "code",
      "execution_count": null,
      "metadata": {
        "colab": {
          "base_uri": "https://localhost:8080/"
        },
        "id": "x_4kW2nVUEdw",
        "outputId": "ca71c398-6c44-44d8-fe49-2c9e590080d4"
      },
      "outputs": [
        {
          "output_type": "stream",
          "name": "stdout",
          "text": [
            "Reading package lists... Done\n",
            "Building dependency tree       \n",
            "Reading state information... Done\n",
            "The following NEW packages will be installed:\n",
            "  poppler-utils\n",
            "0 upgraded, 1 newly installed, 0 to remove and 15 not upgraded.\n",
            "Need to get 174 kB of archives.\n",
            "After this operation, 754 kB of additional disk space will be used.\n",
            "Get:1 http://archive.ubuntu.com/ubuntu focal-updates/main amd64 poppler-utils amd64 0.86.1-0ubuntu1.1 [174 kB]\n",
            "Fetched 174 kB in 2s (114 kB/s)\n",
            "Selecting previously unselected package poppler-utils.\n",
            "(Reading database ... 123105 files and directories currently installed.)\n",
            "Preparing to unpack .../poppler-utils_0.86.1-0ubuntu1.1_amd64.deb ...\n",
            "Unpacking poppler-utils (0.86.1-0ubuntu1.1) ...\n",
            "Setting up poppler-utils (0.86.1-0ubuntu1.1) ...\n",
            "Processing triggers for man-db (2.9.1-1) ...\n"
          ]
        }
      ],
      "source": [
        "!apt-get install poppler-utils  #to present pages of p"
      ]
    },
    {
      "cell_type": "code",
      "source": [
        "!pip install -Uqqq pip --progress-bar off\n",
        "!pip install -qqq langchain==0.0.173 --progress-bar off\n",
        "!pip install -qqq chromadb==0.3.23 --progress-bar off\n",
        "!pip install -qqq pypdf==3.8.1 --progress-bar off\n",
        "!pip install -qqq pygpt4all==1.1.0 --progress-bar off\n",
        "!pip install -qqq pdf2image==1.16.3 --progress-bar off"
      ],
      "metadata": {
        "id": "AG1q7Ha4Uaxz",
        "colab": {
          "base_uri": "https://localhost:8080/"
        },
        "outputId": "853d26a4-c345-45c9-cc83-852d754df342"
      },
      "execution_count": null,
      "outputs": [
        {
          "output_type": "stream",
          "name": "stdout",
          "text": [
            "\u001b[33mWARNING: Running pip as the 'root' user can result in broken permissions and conflicting behaviour with the system package manager. It is recommended to use a virtual environment instead: https://pip.pypa.io/warnings/venv\u001b[0m\u001b[33m\n",
            "\u001b[0m  Installing build dependencies ... \u001b[?25l\u001b[?25hdone\n",
            "  Getting requirements to build wheel ... \u001b[?25l\u001b[?25hdone\n",
            "  Preparing metadata (pyproject.toml) ... \u001b[?25l\u001b[?25hdone\n",
            "  Preparing metadata (setup.py) ... \u001b[?25l\u001b[?25hdone\n",
            "  Building wheel for hnswlib (pyproject.toml) ... \u001b[?25l\u001b[?25hdone\n",
            "  Building wheel for sentence-transformers (setup.py) ... \u001b[?25l\u001b[?25hdone\n",
            "\u001b[31mERROR: pip's dependency resolver does not currently take into account all the packages that are installed. This behaviour is the source of the following dependency conflicts.\n",
            "google-colab 1.0.0 requires requests==2.27.1, but you have requests 2.31.0 which is incompatible.\u001b[0m\u001b[31m\n",
            "\u001b[0m\u001b[33mWARNING: Running pip as the 'root' user can result in broken permissions and conflicting behaviour with the system package manager. It is recommended to use a virtual environment instead: https://pip.pypa.io/warnings/venv\u001b[0m\u001b[33m\n",
            "\u001b[0m\u001b[33mWARNING: Running pip as the 'root' user can result in broken permissions and conflicting behaviour with the system package manager. It is recommended to use a virtual environment instead: https://pip.pypa.io/warnings/venv\u001b[0m\u001b[33m\n",
            "\u001b[0m  Preparing metadata (setup.py) ... \u001b[?25l\u001b[?25hdone\n",
            "  Building wheel for pygpt4all (setup.py) ... \u001b[?25l\u001b[?25hdone\n",
            "\u001b[33mWARNING: Running pip as the 'root' user can result in broken permissions and conflicting behaviour with the system package manager. It is recommended to use a virtual environment instead: https://pip.pypa.io/warnings/venv\u001b[0m\u001b[33m\n",
            "\u001b[0m\u001b[33mWARNING: Running pip as the 'root' user can result in broken permissions and conflicting behaviour with the system package manager. It is recommended to use a virtual environment instead: https://pip.pypa.io/warnings/venv\u001b[0m\u001b[33m\n",
            "\u001b[0m"
          ]
        }
      ]
    },
    {
      "cell_type": "code",
      "source": [
        "#!gdown 1DpFisoGXsQbpQJvijuvxkLW_pg-FUUMF"
      ],
      "metadata": {
        "id": "A1103-RgUf4n"
      },
      "execution_count": null,
      "outputs": []
    },
    {
      "cell_type": "code",
      "source": [
        "#!wget https://gpt4all.io/models/ggml-gpt4all-j-v1.3-groovy.bin #4GB_memory"
      ],
      "metadata": {
        "id": "vgJxS1rtUiTj"
      },
      "execution_count": null,
      "outputs": []
    },
    {
      "cell_type": "code",
      "source": [
        "from langchain.chains import RetrievalQA\n",
        "from langchain.document_loaders import PyPDFLoader\n",
        "from langchain.embeddings import HuggingFaceEmbeddings\n",
        "from langchain.llms import GPT4All\n",
        "from langchain.text_splitter import RecursiveCharacterTextSplitter\n",
        "from langchain.vectorstores import Chroma\n",
        "from pdf2image import convert_from_path\n",
        "from langchain.retrievers.self_query.base import SelfQueryRetriever"
      ],
      "metadata": {
        "id": "gZHVgZIpUtaL"
      },
      "execution_count": null,
      "outputs": []
    },
    {
      "cell_type": "code",
      "source": [
        "from langchain.document_loaders import PyPDFDirectoryLoader\n",
        "loader = PyPDFDirectoryLoader('/content/drive/MyDrive/Multiple_PDFs')\n",
        "docs = loader.load()\n",
        "type(docs)\n",
        "print(docs)"
      ],
      "metadata": {
        "colab": {
          "base_uri": "https://localhost:8080/"
        },
        "id": "rpwfNAHKHtXe",
        "outputId": "12381373-b82d-49b5-cb87-4a9cf23a2454"
      },
      "execution_count": null,
      "outputs": [
        {
          "output_type": "stream",
          "name": "stdout",
          "text": [
            "[Document(page_content=' International Journal of Engineering Research and \\nAdvanced Technology  (IJERAT)  E-ISSN : 2454-6135 \\nDOI: 10.31695/IJERAT.2020.3625 Volume.6,  Issue 7 \\nJuly -2020  \\n \\nwww.ijerat.com              Page 62 \\nLicensed Under Creative Commons Attribution CC BY Artificial Intelligence in Business \\n \\nMatthew N. O. Sadiku, Omobayode I. Fagbohungbe, and Sarhan M. Musa \\nRoy G. Perry College of Engineering \\nPrairie View A&M University \\nPrairie View, TX, USA \\n_______________________________________________________________________________________________ \\nABSTRACT \\nArtificial intelligence (AI) is a field of computer science that is dedicated to developing software   dealing with \\nintelligent decisions, reasoning, and problem solving. Artificial intelligence is already part  of our lives, slowly \\nshaping o ur society and business. It is everywhere, in on your smartphones, laptops, and cars. AI can increas e \\nproductivity, gain competitive advantage, compliment human intelligence. and reduce cost of oper ations. Businesses \\nof all types and sizes are considering artificial intelligence to solve their pro blems. The scope of AI in business \\ntransformation is constantly growing.  This paper provides an introduction on the applications of AI in business. \\nKey Words:  Artificial Intelligence, Artificial Intelligence in Business, Automation.  \\n___________________________________________________________________________________________ \\n \\n1. INTRODUCTION \\n \\nArtificial Intelligence may be regarded as any software program that depicts human intel ligence and consequently has \\nthe ability to engage in a humanlike activity. \\nAI tools can enhance decision-making abilities, allowing enterprises to perf orm increasingly complex tasks. They are \\nversatile tools that enable people to rethink how we integrate information, analyze data, and use the resulting insights \\nto improve decision making. \\n  Artificial intelligence (AI) is becoming commonplace in our daily lives. It is now a household name.  Amazon’s \\nvirtual assistant Alexa may soon be in every home in America. AI is already disrupting virtually every business \\nprocess in every industry. \\nAI has become an important technology that supports daily social life and economic ac tivities. In recent years, AI has \\nattracted attention as a key for  economic growth in developed countries such the United States and United Kingdom \\nand developing countries such as China and India [1]. \\nArtificial intelligence (AI)  may be regarded as the intelligence that machines exhibit by imitating human behavior.  It \\nfocuses on machine learning and enabling software to solve problems in a manner simila r to human intelligence. For \\nexample, computers approve American Express purchases, diagnose faults for GE, and assign rooms for Holiday Inns. \\nVoice recognition, computer vision, and robotics all employ AI [2]. \\n \\n2. OVERVIEW ON ARTIFICIAL INTELLIGENCE \\nArtificial intelligence (AI) is one of the most important global issues of the 21st cent ury. \\nThe modern field of artificial intelligence came into existence in 1956 when t he term “artificial intelligence” (AI) was \\ncoined by John McCarthy. AI is the branch of computer science that deals with designing intelligent computer  systems \\nthat mimic human intelligence. The ability of machines to process natural language, to learn, to plan makes it possible \\nfor new tasks to be performed by intelligent systems. The main purpose of AI is to mimic the cognitive function of \\nhuman beings and perform activities that would typically be performed by a human being . Without being taught by \\nhuman,  machines use their own experience to solve a problem. Although the original v ision for artificial intelligence ', metadata={'source': '/content/MultiplePDFs/Artificial_Intelligence_in_Business.pdf', 'page': 0}), Document(page_content=\"International Journal of Engineering Research And Advanced Technology, Vol.6, Issue 7, July-2020 \\n \\nwww.ijerat.com                                                                                                                                      Page 63 \\nDOI : 10.31695/IJERAT.2020.3625 was to simulate human intelligence, research effort has gradually shifted t o autonomous systems that compete with \\npeople. \\n    AI is stand-alone independent electronic entity that functions much like human expert . Today, AI is integrated into \\nour daily lives in several forms, such as personal assistants, automated mass transport ation, aviation, computer \\ngaming, facial recognition at passport control, voice recognition on virtual as sistants, driverless cars, companion \\nrobots, etc.  AI technologies are performing better and better at analyzing  data [3,4]. \\n  An important feature of AI technology is that is can be added to existing technolog ies. AI has benefited many areas \\nsuch chemistry and medicine, where routine diagnoses can initiated by AI-aided computers. It embraces a wide range \\nof disciplines such as computer science, engineering, chemistry, biology, physics, astronomy, neuroscience, and social \\nsciences. \\n  AI is not a single technology but a range of computational models and algorithms.  The m ajor disciplines in AI \\ninclude expert systems, fuzzy logic, and artificial neural networks (ANNs), mac hine learning, deep learning, natural \\nlanguage processing, computer vision, and robotics. The se computer-based tools or technologies that have been used \\nto achieve AI’s goals are  illustrated in Figure 1 [5] and explained as follow s  [6,7]: \\n\\uf0b7 Expert Systems : An expert system (ES) (or knowledge-based system) essentially embodies the knowledge  \\nand reasoning of human experts.   An ES enables computers to make decisions by interpreting data and \\nselecting between alternatives just as a human expert would do. It uses a technique k nown as rule-based \\ninference in which rules are used to process data. The main business application of AI  is in expert systems, \\nwhich assist human experts in solving difficult problems. \\n \\n\\uf0b7 Neural Networks : These computer programs identify objects or recognize patterns after having been \\ntrained. Artificial neural networks (ANNs) are parallel distributed systems consisting of processing units \\n(neurons) that calculate some mathematical functions. The ANN model represents nonl inear relationships \\nwhich are directly learned from the data being modeled.  Neural networks are being  explored for  healthcare \\napplications in imaging and diagnoses, risk analysis, lifestyle management and monito ring, health \\ninformation management, and virtual health assistance. \\n \\n\\uf0b7 Natural Language Processors : For AI to be useful to us humans, it needs to be able to communicate with \\nus in our language. Computer programs that translate or interpret language as it i s spoken by normal people. \\nNLP techniques extract information from unstructured data such as clinical notes to supplement and enrich \\nstructured medical data. NLP includes applications such as speech recognition, text anal ysis, translation and \\nother goals related to language. There are two basic approaches to NLP: statisti cal and semantic [8]. NLP \\nallows for intelligent search engines, helpful chatbots, and accessibility for people who are visually impaired. \\n\\uf0b7 Robots:  These are computer-based programmable machines that have physical manipulators and senso rs. \\nRobots  have moved from science fiction to your local hospital. Today, robots perfo rm vital functions in \\nhomes, industries, outer space, hospitals, and on military instillations. In jobs with repe titive and monotonous \\nfunctions they might even completely replace humans.  Robotics and autonomous systems is reg arded as the \\nfourth industrial revolution. \\n\\uf0b7  Fuzzy Logic:  Reasoning based on imprecise or incomplete information in terms of a range of values rather \\nthan point estimates. Fuzzy logic deals with uncertainty in knowledge that simulat es human reasoning in \\nincomplete or fuzzy data. The fuzzy model is robust to parameter changes and tolerant to impression. \\n\\uf0b7 Machine Learning: Algorithms to make predictions and interpret data and “learn”, without static prog ram \\ninstructions.  ML is a statistical technique for ﬁtting models to data and training models with data.  ML \\nextracts features from input data by  constructing analytical data algorithm s and examines the features to \\ncreate predictive models. The most common ML algorithms are supervised learning, unsupervise d learning, \\nreinforcement learning, and deep learning. ML algorithms are a good fit for anti -malware solutions because \\nmachine learning is well suited to solve 'fuzzy' problems.  \\n\\uf0b7 Deep Learning : A subset of machine learning built on a deep hierarchy of layers, with each l ayer solving \\ndifferent pieces of a complex problem. It aims at increasing the capacity of supervise d and unsupervised \\nlearning algorithms for solving complex real-world problems by adding multiple pr ocessing layers. An \", metadata={'source': '/content/MultiplePDFs/Artificial_Intelligence_in_Business.pdf', 'page': 1}), Document(page_content='International Journal of Engineering Research And Advanced Technology, Vol.6, Issue 7, July-2020 \\n \\nwww.ijerat.com                                                                                                                                      Page 64 \\nDOI : 10.31695/IJERAT.2020.3625 illustration of deep learning with two hidden layers is in Figure 2 [9 ].  The relationship between artificial \\nintelligence, machine learning, and deep learning is shown in Figure 3 [10 ]. \\n\\uf0b7 Data Mining:   This deals with the discovery of hidden patterns and new knowledge from large databases. \\nData mining exhibits a variety of algorithmic tools such as statistics, regre ssion models, neural networks, \\nfuzzy sets, and evolutionary models. \\n \\nEach AI tool has its own advantages.  Using a combination of these models, rather than a  single model, is \\nrecommended. AI technologies are drastically influencing the retail industry and cus tomer experience.  Some types of \\nartificial intelligence are predominant in business, while others are not. AI  systems are designed to make decisions \\nusing real-time data. They have the ability to learn and adapt as they make decisions. \\n3. APPLICATIONS OF AI IN BUSINESS \\nAI adoption must be done with IT and the entire business working together. I t does not generally replace human \\nintelligence but serves as a supporting tool.  AI seems destined to profoundly impact all aspects of business. It is \\nwidely used in business applications such as marketing, finance, accounting, human resources, supply chain, \\nautomation, data analytics, and natural language processing. Some of these are explained as follows [11- 14]: \\n\\uf0b7 Marketing :  Marketing is one of the most notable areas of applications of A I. It may decide the next most \\neffective marketing strategy. AI helps to develop marketing strateg ies and execute them. One way AI is \\nmarketing products is through chatbots, which can help solve problems, suggest products/service s, and \\nsupport sales. These AI chatbots can understand natural language. Retailers will be able to use AI technology \\nto track shoppers in their stores and prevent theft. For example, Walmart has been using HANA to process \\nhigh volume of transaction records. \\n\\uf0b7 Finance : Investments in financial AI is growing as AI is increasingly being applied in financial institutions \\nsuch as banks and insurance companies. Some banks  use various AI tools to detect fraudulent a ctivity. Loan \\napplications  are now being processed by software that can take into account a varie ty of factors  such as \\ncreditworthiness, credit score and  background check. Fraud detection represents another  way AI is helpful in \\nfinancial systems since AI can discern fraudulent activities. \\n\\uf0b7 Accounting:  AI is redefining the job descriptions of all sectors of professions. Accounti ng is a discipline that \\ndeals with recording, analyzing, summarizing, and reporting  every business transact ion. Accounting can be \\ndivided into several parts based on the activity of the organization: financial ac counting, cost accounting, and \\nmanagement accounting.  The AI technology is revolutionizing the accounting field and al tering the roles of \\naccountants [15]. \\n\\uf0b7 Automation:   The future is gravitating towards automation with AI driving the force behind eliminating the \\nhuman error  from business operations.  AI can  help improve efficiency and save money by automating many \\ntasks.  Automation alleviates repetitive or dangerous tasks. The increasing penetrati on of AI and autonomous \\ndevices into many aspects of life is improving efficiency and response times. For exampl e, robotic process \\nautomation can produce amazing results in  accounting department. The Apptus eSales soluti on is designed to \\nautomate merchandising based on a predictive understanding of consumers.  AI in accounting will reduce \\nerrors and free up professionals from repetitive tasks. Business communication with customers can also be \\nautomated through online chats, email marketing, and social media. \\n\\uf0b7 Human Resources : AI can help human resources (HR) departments by making candidate screening and \\nrecruitment process easier. Chatbots can  be used to answer many commonly asked questi ons about company \\nmission, policies, and benefits. Vendors in the HR sector such as Entelo, Textio, Textkernal, and Hiri ngSolved \\noffer AI solutions that help recruiters  to sort and match potential workers and use bots to schedule candidate ', metadata={'source': '/content/MultiplePDFs/Artificial_Intelligence_in_Business.pdf', 'page': 2}), Document(page_content=\"International Journal of Engineering Research And Advanced Technology, Vol.6, Issue 7, July-2020 \\n \\nwww.ijerat.com                                                                                                                                      Page 65 \\nDOI : 10.31695/IJERAT.2020.3625 interviews. There is a notable impact from using AI in their staffing and talent management operat ions. AI can \\nbe a powerful tool in the hiring process. \\n\\uf0b7 Intelligent Supply Chain: As consumer expectations continue to change, supply chains struggle to get the \\nright products to customers, when and where they need them, without impacting mar gins. AI enables a self-\\nlearning and self-optimizing supply chain model with real-time insights to deliver precision.  \\n\\uf0b7 Business Intelligence:  This may also be regarded as a collection of decision support technologies for t he \\nenterprise aimed at enabling professionals make better and faster decisions. The purpose of business \\nintelligence (BI) is to support better business decision-making [16]. The use  of AI and machine learning in BI \\nis helping business enterprises to pull out actionable insigh ts from complex data. Machine learning tools in \\nbusiness intelligence like the HANA will improve operational efficiency. BI chatbots are enabling decision \\nmaking by analyzing business data . AI has merged with BI applications in manufacturing \\nand industrial sectors.  Figure 4 shows a typical healthcare business intelligence [17 ]. \\n \\n These are just some of the examples of AI applications in business.   Other use s of AI in business include business \\nanalytics, chatbots and virtual assistance, fraud/crime detection, sales, R &D, e-commerce, advertising, customer \\nservice, talent selection and development, manufacturing, healthcare business,  nation al security, criminal justice, \\nlogistics,  transportation, and smart cities. \\n \\n4. BENEFIT S \\nMost business leaders are excited about incorporating AI into the company’s business fun ctions i n order to start \\nrealizing its extraordinary benefits.  Companies of all types and sizes are finding ways to use the right artificial \\nintelligence technology to save time and money. In order to meet evolving custom er expectations,  companies are \\nleveraging intelligent technologies to transform the way they operate. \\n  The business benefits of artificial intelligence are many. By deploying t he right AI technology, a business can enjoy \\nthe following benefits [18 ]: \\n\\uf0b7 Save time and money by automating routine or repetitive processes  \\n\\uf0b7 Reduce operational costs, increase efficiency, boost operational efficiency, and i mprove customer \\nexperience \\n\\uf0b7 Increase sales, detect fraud, improve human resources, and provide predictive analysis. \\n\\uf0b7 Increase productivity and operational efficiencies and drive revenue growth \\n\\uf0b7 Predict customer preferences and offer them better, personalized experience \\n\\uf0b7 Increase revenue by identifying and maximizing sales opportunities \\n\\uf0b7 Provide  competitor advantage and empowers businesses to identify new opportunities \\n\\uf0b7  \\n\\uf0b7 Enable companies to do things differently, enable better decision making, create more intelligent proces ses, \\nand generate insights \\n\\uf0b7 Augment rather than replace human capabilities \\n\\uf0b7 Improve personalized services and predict customer needs with remarkable accuracy \\n\\uf0b7 Enable businesses to work smarter and faster, doing more with less \\n\\uf0b7 Help customer service reps provide better support.  \\n\\uf0b7 Personalize learning and improve accuracy of knowledge worker \\n    \\nAI-based devices like chatbots and virtual assistants are on the rise. Amazon's Alexa, Google's Home, Apple's Siri, \\nand Microsoft's Cortana are all using AI-based algorithms to make life better. \\n \\n \\n \", metadata={'source': '/content/MultiplePDFs/Artificial_Intelligence_in_Business.pdf', 'page': 3}), Document(page_content='International Journal of Engineering Research And Advanced Technology, Vol.6, Issue 7, July-2020 \\n \\nwww.ijerat.com                                                                                                                                      Page 66 \\nDOI : 10.31695/IJERAT.2020.3625 5.  CHALLENGES  \\nEvery new technology comes with risks.  As an emerging technology, AI   is changing at a fast pace and may present \\nsome unexpected challenges. Some of the challenges facing business AI include the following [19,20 ]. \\n\\uf0b7 Lack of familiarity:  Most people in business are not very familiar with  artificial intelli gence, what it is and \\nwhat it can do for them. In spite of this. AI is a technology that is transforming every walk  of life. \\n\\uf0b7 Misunderstanding:  AI is misunderstood by many, especially by the mainstream media. The media has \\noverpraised AI for techniques that are not new, and over-criticized it for overly optimis tic promises.  \\n\\uf0b7 Public Fear:  Everywhere you look, it seems AI is assisting and displacing human effort. There a re plenty \\nof doom and gloom predictions around AI. AI  offers both promise and peril as it revolutionizes the workplace.   \\nThere is a public fear around the world  particularly in the busin ess community that AI technology such as \\nrobots will overtake us and force humans into obsolescence. This fear is  considered unfounded by some.  For \\nsure, AI is nowhere near replacing humans,  but it will automate repetitive tasks and free us up to do more \\ncomplex tasks.  \\n\\uf0b7 Ethics:   There are  currently no standards concerning data access, data sharing, or data protect ion.  How \\nshould we promote data access? How do we guard against biased or unfair use of  data in algorithms? What \\ntypes of ethical principles are introduced through software programming? T o answer these and related \\nquestions may require an international body that will set the standards by which ethical dilemmas are \\nresolved. The IEEE Global Initiative has ethical guidelines for AI and autonomous systems. \\n\\uf0b7 Shortage of Workforce : Due to the fast-growing AI market, people with AI skills are in short supp ly. To \\nrealize the full capacity of AI, we need the right people and the right cultu re. Right now, there are shortages of \\ndata scientists, computer scientists, engineers, and software developers because students ar e not receiving \\ninstruction in AI skills. More emphasis should be put on STEM subjects (science, technology, engineering  and \\nmathematics). Not generating more people with these capabilities will limit AI development. \\n \\nWhile AI offers valuable benefits to businesses, implementation is usually expensive and time-consuming.    Overall,  \\nthe pros outweigh the cons.  \\n \\n6. CONCLUSION  \\nArtificial intelligence is the capability of a machine to imitate intelligent  behavior. It \\nhas played a significant role in transforming the way business operate  today.   AI may well be a revolution in human \\naffairs because AI tools  will have substantial impact on the general public in the foreseeable future. Companies \\naround the globe are utilizing AI in order to thrive, provide better solutions to t heir clients, and create new sources of \\nbusiness value. \\n  We are in an era of AI.  It is evident that AI is driving powerful tr ansformations across a variety of industries. \\nBusiness managers may not fully understand AI technology, but they need understand what  it can do for their \\nbusiness. They should learn to integrate AI technology into multiple aspects of t heir business. To get the most out of \\nAI, data scientists must engage with business users to understand their needs and problem s.    More information on \\nartificial intelligence in business can be found in the books in [21-35]  and several other books in Amazon.com and \\nbooks.google.com.  One may also consult a related journal:  Artificial Intelligence Review. \\n \\nREFERENCES \\n[1] H. Lu et al.,  “Brain intelligence: Go beyond artificial intelligence ,” Mobile Networks and Applications, vol  23, \\n2018, pp. 368 –375.  \\n[2] P. J.  Byrne and S.  P. Franklin. \"Can your business use artificial intelligence?\" Business Perspectiv es, vol. 3, no. 3, \\nSpring 1990 ', metadata={'source': '/content/MultiplePDFs/Artificial_Intelligence_in_Business.pdf', 'page': 4}), Document(page_content='International Journal of Engineering Research And Advanced Technology, Vol.6, Issue 7, July-2020 \\n \\nwww.ijerat.com                                                                                                                                      Page 67 \\nDOI : 10.31695/IJERAT.2020.3625 [3] M. N. O. Sadiku, T. J. Ashaolu, and S . M.  Musa, ” Artificial intelligence in medicine: A primer,”  International \\nJournal of  Trend in Research and Development ,  vol. 6, no. 1, Jan.-Feb. 2019, pp. 270-272. \\n[4] Y. Mintz and R. Brodie, “Introduction to artificial intelligence in medicine,”  Minimally Invasive Therapy & Allied \\nTechnologies , vol. 28, no. 2, 2019, pp. 73-81. \\n[5] O.  Oana, T. Cosmin, and N.  C. Valentin, “Artificial intelligence - A new field of computer science which any \\nbusiness should consider,”  “Ovidius”  University Annals, Econ omic Sciences Serie s, vol. XVII, no. 1, 2017, \\npp.  356-360. \\n[6] R.  O. Mason, “Ethical issues in artificial intelligence,” Encyclopedia of Information Systems , vol 2, 2003, pp. 239-\\n258. \\n[7] A. N.  Rames et al., “Artificial intelligence in medicine,” Annals of the Royal College of Surgeons of England , vol. \\n86, 2004, pp. 334 –338. \\n[8]   M. N. O. Sadiku, Y. Zhou, and S. M. Musa, “Natural language  processing in healthcare,” International Journal \\nof Advanced Research in Computer Science and Software Engineering,  vol. 8, no. 5, May 2018, pp. 39-42. \\n[9] F. Jiang et al., “Artificial intelligence in healthcare: Past, present and future,” Stroke and Vascular Neurology , \\n2017. \\n[10] “Quantum computing,”  \\nhttps://quantumcomputingtech.blogspot.com/2019/05/ai-machine-learning-venn-diagram.html  \\n[11] “Business applications for artificial intelligence: An update for 2020,”  March 2019, \\nhttps://blog.dce.harvard.edu/professional-development/business-applications-artificial -intelligence-what-know-2019 \\n[12] B.  Marr, “10 Business functions that are ready to use artificial intelligence,” Mar ch 2020,  \\nhttps://www.forbes.com/sites/bernardmarr/2020/03/30/10-business-functions-that-are- ready- to-use-artificial-\\nintelligence/#70fe2c923068 \\n[13] D. M. West and J. R. Allen ,“How artificial intelligence is transforming the world,”  \\nApril  2018, \\nhttps://www.brookings.edu/research/how-artificial-intelligence- is-transforming-the-world/ \\n[14]“Why is artificial intelligence in business analytics so critical for business growth?” September 2019,  \\nhttps://medium.com/gobeyond-ai/why- is-artificial-intelligence- in-business-analytics- so-critical-for-business-growth-\\n2ed16cbe7846#:~:text=AI%2Dpowered%20BI%20tools%20have,day%2Dto%2Dday%20decisions. \\n[15] D.  Kwafo, “The impacts of artificial i ntelligence on management accounting students: A case study at Oulu \\nBusiness School, University of Oulu,”  Master’s Thesis,  \\nUniversity of Oulu, April 2019. \\n[16] M. N. O. Sadiku, M. Tembely, and S. M Musa,”Toward better understanding of business intelli gence,”  Journal \\nof Scientific and Engineering Research,   vol. 3, no. 5, 2016, pp. 89-91. \\n[17]  S. Y. Lee, “Architecture for business intelligence in the healthcare sector,” IOP Conference Series: Materials \\nScience and Engineering,  2018. \\n[18] “Artificial intelligence in business: Business benefits of artificial intell igence,”  \\nhttps://www.nibusinessinfo.co.uk/content/business-benefits-artificial-intelligenc e \\n[19] D. Matskevich , “Preparing your business for the artificial intelligence revolution,” July 2018,  \\nhttps://www.forbes.com/sites/forbestechcouncil/2018/07/12/preparing-your-business-f or-the-artificial-intelligence-\\nrevolution/#39d5037d7ac8 \\n[20] A.  Lauterbach and A. Bonime- Blanc, “ Artificial intelligence: A strategic business and governance imperative,”  \\nhttps://gecrisk.com/wp-content/uploads/2016/09/ALauterbach-ABonimeBlanc-Artifici al-Intelligence-Governance-\\nNACD -Sept-2016.pdf \\n[21] M. Gilbert (ed.),  Artificial Intelligence for Autonomous Networks.  Boca Raton, FL: CRC Press, 2018. \\n[22] R.  Akerkar,  Artificial Intelligence for Business.   Springer, 2018.  \\n[23] D. Rose,  Artificial Intelligence for Business.   Pearson Education, 2020.  \\n[24] J.  L. Anderson ,   and J.  L. Coveyduc, Artificial  Intelligence for Business: A Roadmap for Getting Strarted with \\nAI. John Wiley & Sons,  2020.  ', metadata={'source': '/content/MultiplePDFs/Artificial_Intelligence_in_Business.pdf', 'page': 5}), Document(page_content='International Journal of Engineering Research And Advanced Technology, Vol.6, Issue 7, July-2020 \\n \\nwww.ijerat.com                                                                                                                                      Page 68 \\nDOI : 10.31695/IJERAT.2020.3625 [25] D. Partridge and  K. M.  Hussain,  Artificial Intelligence and Business Management.  Norwood, NJ: Ablex \\nPublishing Co., 1992. \\n[26]  M.  Yao, A. Zhou, and M. Jia,  Artificial Intelligence: A Handbook For Business Leaders . TOPBOTS,  2018. \\n[27] D. Rose,  Artificial Intelligence for Business: What You Need to Know Sbout Machine Learning and Neural \\nNetworks.  Chicago Lakeshore Press, 2018. \\n[28] J. Sterne, Artificial Intelligence for Marketing: Practical Applications .  John Wiley & Sons, 2017. \\n[29] W. B. Rauch-Hindin, Artificial Intelligence In Business, Science, And Industry. Vol. II: Applications.   Prentice-\\nHall, 1985. \\n[30] Patrick H. Winston and K. A. Prendergast (eds.), The AI Business: Commercial Uses of Artificial \\nIntelligence.  Cambridge, MA: MIT Press,1984. \\n[31] T.  B. Cross,  Knowledge Engineering: The Uses of Artificial Intelligence in Business. Upper Saddle River, \\nNJ: Prentice Hall, 1988. \\n[32] J. M. Munoz and A.  Naqvi,  Business Strategy in the Artificial Intelligence Economy . Business \\nExpert Press, 2018. \\n[33] A .  Lauterbach and  A. Bonime-Blanc,  The Artificial Intelligence Imperative: A Practical Roadmap for Business . \\nPraeger, 2018. \\n[34] J.  Medicine, Artificial Intelligence and Machine Learning for Business: Approach for Beginners to AI and \\nMachine Learning and Their Revolution of Modern Life, Health Care, Business and Marketing.  Independently \\npublished, 2019.  \\n[35] M. Skilton and  F. Hovsepian, The 4th Industrial Revolution: Responding to the Impact of Artificial \\nIntelligence on Business.  Springer, 2017.  \\n \\n \\nABOUT THE AUTHORS \\nMatthew N.O. Sadiku  is a professor in the Department of Electrical and Computer Engineering at Prairie View A&M \\nUniversity, Prairie View, Texas.  He is the author of several books and papers. His areas of research interests include \\ncomputational electromagnetics and computer networks. He is a fellow of IEEE. \\n \\nOmobayode I. Fagbohungbe   is a doctoral student at Prairie View A&M University, Prairie View Texas. He hol ds a \\nmasters of science degree in control engineering from  the University of Ma nchester, UK  and a   bachelor degree in \\nelectrical and electronics engineering from Obafemi Awolowo University, Nig eria.  He is a graduate member of the \\nIEEE.  His current research interests are in data science, machine learning, and deep learning.   \\n \\nSarhan M. Musa  is a professor in the Department of Electrical and Computer Engineering at Prairie View A&M \\nUniversity, Texas. He has been the director of Prairie View Networking Academy, Texas, since 2004. He is an LTD \\nSprint and Boeing Welliver Fellow.  His research interests include computer netwo rks and computational \\nelectromagnetics.  \\n \\n ', metadata={'source': '/content/MultiplePDFs/Artificial_Intelligence_in_Business.pdf', 'page': 6}), Document(page_content='International Journal of Engineering Research And Advanced Technology, Vol.6, Issue 7, July-2020 \\n \\nwww.ijerat.com                                                                                                                                      Page 69 \\nDOI : 10.31695/IJERAT.2020.3625 \\n \\nFigure 1 The relationship between AI, machine learning, and deep learning [10]. \\n  \\n \\n \\nFigure 2   An illustration of deep learning with two hidden layers [9]. \\n ', metadata={'source': '/content/MultiplePDFs/Artificial_Intelligence_in_Business.pdf', 'page': 7}), Document(page_content='International Journal of Engineering Research And Advanced Technology, Vol.6, Issue 7, July-2020 \\n \\nwww.ijerat.com                                                                                                                                      Page 70 \\nDOI : 10.31695/IJERAT.2020.3625 \\n \\nFigure 3  The relationship between AI, machine learning, and deep learning [10]. \\n \\n \\n \\n \\nFigure 4  Healthcare business intelligence [17 ]. \\n ', metadata={'source': '/content/MultiplePDFs/Artificial_Intelligence_in_Business.pdf', 'page': 8}), Document(page_content='Generative AI is here:  \\nHow tools like ChatGPT \\ncould change your business\\nGenerative AI and other foundation models are changing the AI game, taking \\nassistive technology to a new level, reducing application development time, \\nand bringing powerful capabilities to nontechnical users.\\nDecember 2022© Getty Imagesby Michael Chui, Roger Roberts, and Lareina Yee\\n', metadata={'source': '/content/MultiplePDFs/Mckinsey_HowAICanChangeyourBusiness.pdf', 'page': 0}), Document(page_content='In the spirit of this article’s topic, we asked \\nChatGPT—a generative AI language model that \\ncan create original content in response to a user \\nprompt—how it would set the context. Our prompt to \\nthe system:\\nWrite the opening paragraph for an article about \\nhow transformative generative AI will be for \\nbusiness, in the style of McKinsey & Company.\\nChatGPT’s response:\\nThe rise of generative AI has the potential to be \\na major game-changer for businesses. This \\ntechnology, which allows for the creation of original \\ncontent by learning from existing data, has the \\npower to revolutionize industries and transform \\nthe way companies operate. By enabling the \\nautomation of many tasks that were previously \\ndone by humans, generative AI has the potential to \\nincrease efficiency and productivity, reduce costs, \\nand open up new opportunities for growth. As such, \\nbusinesses that are able to effectively leverage \\nthe technology are likely to gain a significant \\ncompetitive advantage.\\nNot perfect but overwhelmingly impressive.\\nFor us and many executives we’ve spoken to \\nrecently, entering one prompt into ChatGPT, \\ndeveloped by OpenAI, was all it took to see the \\npower of generative AI. In the first five days of its \\nrelease, more than a million users logged into the \\nplatform to experience it for themselves. OpenAI’s \\nservers can barely keep up with demand, regularly \\nflashing a message that users need to return later \\nwhen server capacity frees up.\\nProducts like ChatGPT and GitHub Copilot, as \\nwell as the underlying AI models that power such \\nsystems (Stable Diffusion, DALL ·E 2, GPT-3, to \\nname a few), are taking technology into realms once \\nthought to be reserved for humans. With generative \\nAI, computers can now arguably exhibit creativity. \\nThey can produce original content in response to \\nqueries, drawing from data they’ve ingested and \\ninteractions with users. They can develop blogs, sketch package designs,  write computer code , or \\neven theorize on the reason for a production error.\\nThis latest class of generative AI systems has \\nemerged from foundation models—large-scale, \\ndeep learning models trained on massive, broad, \\nunstructured data sets (such as text and images) \\nthat cover many topics. Developers can adapt the \\nmodels for a wide range of use cases, with little \\nfine-tuning required for each task. For example, \\nGPT-3.5, the foundation model underlying ChatGPT, \\nhas also been used to translate text, and scientists \\nused an earlier version of GPT to create novel \\nprotein sequences. In this way, the power of these \\ncapabilities is accessible to all, including developers \\nwho lack specialized machine learning skills and, in \\nsome cases, people with no technical background. \\nUsing foundation models can also reduce the time \\nfor developing new AI applications  to a level rarely \\npossible before.\\nGenerative AI promises to make 2023 one of the \\nmost exciting years yet for AI. But as with every \\nnew technology, business leaders must proceed \\nwith eyes wide open, because the technology today \\npresents many ethical and practical challenges.\\nPushing further into human realms\\nMore than a decade ago, we wrote an article \\nin which we sorted economic activity into \\nthree buckets—production, transactions, and \\ninteractions—and examined the extent to which \\ntechnology had made inroads into each. Machines \\nand factory technologies transformed production \\nby augmenting and automating human labor during \\nthe Industrial Revolution more than 100 years ago, \\nand AI has further amped up efficiencies on the \\nmanufacturing floor. Transactions have undergone \\nmany technological iterations over approximately \\nthe same time frame, including most recently \\ndigitization and, frequently, automation.\\nUntil recently, interaction labor, such as customer \\nservice, has experienced the least mature \\ntechnological interventions. Generative AI is set to \\nchange that by undertaking interaction labor in a \\n2 Generative AI is here: How tools like ChatGPT could change your business', metadata={'source': '/content/MultiplePDFs/Mckinsey_HowAICanChangeyourBusiness.pdf', 'page': 1}), Document(page_content='way that approximates human behavior closely and, \\nin some cases, imperceptibly. That’s not to say these \\ntools are intended to work without human input and \\nintervention. In many cases, they are most powerful \\nin combination with humans, augmenting their \\ncapabilities and enabling them to get work done \\nfaster and better.\\nGenerative AI is also pushing technology into a \\nrealm thought to be unique to the human mind: \\ncreativity. The technology leverages its inputs \\n(the data it has ingested and a user prompt) and \\nexperiences (interactions with users that help \\nit “learn” new information and what’s correct/\\nincorrect) to generate entirely new content. While \\ndinner table debates will rage for the foreseeable \\nfuture on whether this truly equates to creativity, \\nmost would likely agree that these tools stand to \\nunleash more creativity into the world by prompting \\nhumans with starter ideas.\\nBusiness uses abound\\nThese models are in the early days of scaling, but \\nwe’ve started seeing the first batch of applications \\nacross functions, including the following (exhibit):\\n —Marketing and sales —crafting personalized \\nmarketing, social media, and technical sales \\ncontent (including text, images, and video); \\ncreating assistants aligned to specific \\nbusinesses, such as retail\\n —Operations —generating task lists for efficient \\nexecution of a given activity\\n —IT/engineering —writing, documenting, and \\nreviewing code\\n —Risk and legal —answering complex \\nquestions, pulling from vast amounts of legal \\ndocumentation, and drafting and reviewing \\nannual reports\\n —R&D —accelerating drug discovery through \\nbetter understanding of diseases and discovery \\nof chemical structuresExcitement is warranted, but caution is \\nrequired\\nThe awe-inspiring results of generative AI might \\nmake it seem like a ready-set-go technology, \\nbut that’s not the case. Its nascency requires \\nexecutives to proceed with an abundance of caution. \\nTechnologists are still working out the kinks, and \\nplenty of practical and ethical issues remain open. \\nHere are just a few:\\n —Like humans, generative AI can be wrong. \\nChatGPT, for example, sometimes “hallucinates,” \\nmeaning it confidently generates entirely \\ninaccurate information in response to a user \\nquestion and has no built-in mechanism to \\nsignal this to the user or challenge the result. \\nFor example, we have observed instances when \\nthe tool was asked to create a short bio and it \\ngenerated several incorrect facts for the person, \\nsuch as listing the wrong educational institution.\\n —Filters are not yet effective enough to catch \\ninappropriate content. Users of an image-\\ngenerating application that can create avatars \\nfrom a person’s photo received avatar options \\nfrom the system that portrayed them nude, even \\nthough they had input appropriate photos of \\nthemselves.\\n —Systemic biases still need to be addressed. \\nThese systems draw from massive amounts of \\ndata that might include unwanted biases .\\n —Individual company norms and values aren’t \\nreflected.  Companies will need to adapt the \\ntechnology to incorporate their culture and \\nvalues, an exercise that requires technical \\nexpertise and computing power beyond what \\nsome companies may have ready access to.\\n —Intellectual-property questions are up for \\ndebate. When a generative AI model brings \\nforward a new product design or idea based \\non a user prompt, who can lay claim to it? What \\nhappens when it plagiarizes a source based on \\nits training data?\\n3 Generative AI is here: How tools like ChatGPT could change your business', metadata={'source': '/content/MultiplePDFs/Mckinsey_HowAICanChangeyourBusiness.pdf', 'page': 2}), Document(page_content='Exhibit  \\nThere are many possible generative AI use cases across the business that could \\ncreate early impact.Web <year>\\n<Title>\\nExhibit <x> of <x>\\nExample use cases¹ (not exhaustive)\\n1Given that generative AI is in the early stages of maturity, organizations will want to consider use cases and their implications carefully and determine the \\nappropriate level of human oversight. There are many possible generative AI use cases across the business that \\ncould create early impact.\\nMcKinsey & CompanyMarketing and\\nsales Operations IT/engineering Risk and legal HRUtility/employee\\noptimization \\nWrite marketing \\nand sales copy \\nincluding text, \\nimages, and \\nvideos (eg, to \\ncreate social \\nmedia content or \\ntechnical sales \\ncontent)Create or\\nimprove cus-\\ntomer support \\nchatbots to \\nresolve questions \\nabout products, \\nincluding gener-\\nating relevant \\ncross-sell leadsWrite code and \\ndocumentation \\nto accelerate and \\nscale develop-\\nments (eg, con-\\nvert simple \\nJavaScript \\nexpressions into \\nPython)Draft and review \\nlegal documents, \\nincluding con-\\ntracts and patent \\napplicationsAssist in creating \\ninterview ques-\\ntions for candi-\\ndate assessment \\n(eg, targeted to \\nfunction, com- \\npany philosophy, \\nand industry)Optimize com-\\nmunication of \\nemployees (eg, \\nautomate email \\nresponses and \\ntext translation or \\nchange tone or \\nwording of text)\\nCreate product \\nuser guides of \\nindustry-\\ndependent\\noﬀerings (eg, \\nmedicines or \\nconsumer\\nproducts)Identify produc-\\ntion errors, \\nanomalies, and \\ndefects from \\nimages to provide \\nrationale for \\nissuesAutomatically \\ngenerate or\\nauto-complete \\ndata tables while \\nproviding\\ncontextual\\ninformationSummarize and \\nhighlight\\nchanges in large \\nbodies of\\nregulatory\\ndocumentsProvide \\nself-serve HR \\nfunctions (eg, \\nautomate \\n/f_irst-line interac-\\ntions such as \\nemployee\\nonboarding or \\nautomate Q&A or \\nstrategic advice \\non employment \\nconditions, law, \\nregulations, etc) Create business \\npresentations \\nbased on text \\nprompts, includ-\\ning visualizations \\nfrom text\\nAnalyze\\ncustomer\\nfeedback by\\nsummarizing and \\nextracting\\nimportant themes \\nfrom online text \\nand imagesStreamline cus-\\ntomer service by \\nautomating pro-\\ncesses and \\nincreasing agent \\nproductivity Generate syn-\\nthetic data to \\nimprove training \\naccuracy of\\nmachine learning \\nmodels with lim- \\nited unstructured \\ninputAnswer ques-\\ntions from large \\namounts of legal \\ndocuments, \\nincluding public \\nand private com-\\npany information Synthesize a \\nsummary (eg, \\nfrom text, slide \\ndecks, or online \\nvideo meetings)\\nImprove sales \\nforce by, for \\nexample, /f_lagging \\nrisks, recom-\\nmending next \\ninteractions such \\nas additional \\nproduct oﬀerings, \\nor identifying \\noptimal customer \\ninteraction that \\nleads to growth \\nand retention\\nCreate or\\nimprove sales \\nsupport chatbots \\nto help potential \\nclients under-\\nstand, including \\ntechnical product \\nunderstanding, \\nand choose\\nproductsIdentify clauses \\nof interest, such \\nas penalties or \\nvalue owed \\nthrough leverag-\\ning comparative \\ndocument\\nanalysisEnable search \\nand question \\nanswering on \\ncompanies’ pri-\\nvate knowledge \\ndata (eg, intranet \\nand learning\\ncontent) \\nAutomated \\naccounting by \\nsorting and \\nextracting docu-\\nments using \\nautomated email \\nopeners, \\nhigh-speed scan-\\nners, machine \\nlearning, and \\nintelligent docu-\\nment recognition \\n4 Generative AI is here: How tools like ChatGPT could change your business', metadata={'source': '/content/MultiplePDFs/Mckinsey_HowAICanChangeyourBusiness.pdf', 'page': 3}), Document(page_content='Initial steps for executives\\nIn companies considering generative AI, \\nexecutives will want to quickly identify the parts \\nof their business where the technology could \\nhave the most immediate impact and implement \\na mechanism to monitor it, given that it is \\nexpected to evolve quickly. A no-regrets move is \\nto assemble a cross-functional team, including \\ndata science practitioners, legal experts, and \\nfunctional business leaders, to think through basic \\nquestions, such as these:\\n —Where might the technology aid or disrupt our \\nindustry and/or our business’s value chain?\\n —What are our policies and posture? For \\nexample, are we watchfully waiting to see how \\nthe technology evolves, investing in pilots, or \\nlooking to build a new business? Should the \\nposture vary across areas of the business?\\n —Given the limitations of the models, what are \\nour criteria for selecting use cases to target? —How do we pursue building an effective \\necosystem of partners, communities, and \\nplatforms?\\n —What legal and community standards should \\nthese models adhere to so we can maintain \\ntrust with our stakeholders?\\nMeanwhile, it’s essential to encourage thoughtful \\ninnovation across the organization, standing up \\nguardrails along with sandboxed environments \\nfor experimentation, many of which are readily \\navailable via the cloud, with more likely on the \\nhorizon.\\nThe innovations that generative AI could ignite for \\nbusinesses of all sizes and levels of technological \\nproficiency are truly exciting. However, executives \\nwill want to remain acutely aware of the risks \\nthat exist at this early stage of the technology’s \\ndevelopment.\\nCopyright © 2022 McKinsey & Company. All rights reserved.Michael Chui  is a partner at the McKinsey Global Institute and a partner in McKinsey’s Bay Area office, where Roger  Roberts \\nis a partner and Lareina Yee  is a senior partner.\\n5 Generative AI is here: How tools like ChatGPT could change your business', metadata={'source': '/content/MultiplePDFs/Mckinsey_HowAICanChangeyourBusiness.pdf', 'page': 4}), Document(page_content=\" Press release \\n \\n* According to the SBTi's (Science Based Targets in itiative) calculation methodology. The SBTi provide s companies with a clearly-defined \\npath to reduce CO 2 emissions in line with the objective to limit glob al warming to 2°C. \\n \\n \\n \\n \\n \\n \\n \\nValeo commits to achieving carbon neutrality by 205 0  \\nand will have already reached 45% of its objective by 2030 \\nParis, February 4, 2021  – Valeo has committed to achieving carbon neutrality by 2050 and will have \\nreached 45% of its objective by 2030. \\n \\nBy 2030, Valeo’s emissions will have decreased by 4 5% across its entire value chain – including \\nemissions from its suppliers, its own operating act ivities and the end use of its products – compared with \\n2019. \\nBy 2050, Valeo will have achieved carbon neutrality  for all of its own operating activities and across  its \\nentire supply chain worldwide and will be 100% carb on neutral (including the end use of its products) in \\nEurope. \\n \\nValeo is also a signatory of the “Business Ambition  for 1.5°C” campaign that brings together companies  \\ncommitted to achieving carbon neutrality by 2050 us ing the strict framework of the Science Based Targe ts \\ninitiative.  \\n \\nJacques Aschenbroich, Valeo’s Chairman and Chief Ex ecutive Officer, commented: “The entire automotive \\nindustry is investing heavily to combat global warm ing. At Valeo, the reduction of CO 2 emissions has been central \\nto our strategy since 2010, and sales generated fro m technologies that help to reduce CO 2 emissions have grown \\n20-fold to around 10 billion euros in 2021. We inte nd to continue our efforts, with the aim of achievi ng carbon \\nneutrality by 2050 and reaching nearly half of this  objective by 2030.”  \\nOn the journey to carbon neutrality, 2030 is an imp ortant and fast-approaching milestone. By then, Val eo is \\ncommitted to reducing: \\n- emissions related to its operating activities by 75%*, from 1.1 million to 0.3 million metric tons o f CO 2 \\n(Scopes 1 and 2); \\n- emissions related to its supply chain by 15%*, fr om 9.5 million to 8.1 million metric tons of CO 2 (upstream \\nScope 3); \\n- emissions related to the end use of its products (Scope 3 downstream) by 15%*, from 39 million to \\n33.1 million metric tons of CO 2. This reduction is expected to rise to 50% when ta king into account \\nemissions avoided thanks to the Group’s electrifica tion technologies, with CO 2 emissions declining from \\n39 million to 19.5 million metric tons. \\nBy 2030, Valeo will have invested more than 400 mil lion euros in reducing emissions related to its ope rating \\nactivities (Scopes 1 and 2). These investments will  be used to upgrade the Group’s sites to enable the  current \\n100 most carbon-intensive facilities to become high -energy efficiency sites by 2030. Upgrades will inc lude the \\ndevelopment of eco-friendly buildings, the widespre ad use of LED lighting and the integration of heat recovery \\nsystems.  \\nThe proportion of low-carbon energy in the Group's energy consumption will increase from 5.5% in 2019 to 80% \\nby 2030, having already risen to 50% by 2025. A num ber of sites are already piloting renewable energy \\nalternatives, including three Group sites in Chenna i (India), where 90% of consumption is wind-powered , and sites \\nin Sanand (India) and Bad Rodach (Germany), which u se their own solar energy facilities to produce 30%  and \\n20% of the energy they consume, respectively.  \\nValeo has also set the same CO 2 emissions reduction objectives for its suppliers, and the use of low-emission \\nmaterials will be increased. \", metadata={'source': '/content/MultiplePDFs/2021_02_04_PR_Carbon_Neutrality_objectives.pdf', 'page': 0}), Document(page_content='  At the same time, Valeo will continue to expand its  portfolio of technologies that contribute to low-c arbon mobility, in \\nparticular its solutions for vehicle electrificatio n, a field in which the Group is currently world le ader. Over the past ten \\nyears, Valeo has invested more than 10 billion euro s in technologies that reduce CO 2 emissions. \\n \\nIn 2019, 57% of Valeo’s sales were generated by tec hnologies that help to reduce CO 2 emissions. Today, one in \\nthree vehicles worldwide is fitted with Valeo techn ology that helps to reduce CO 2 emissions.  \\nValeo has also pursued an ambitious sustainable dev elopment policy, reducing its water, energy and pac kaging \\nconsumption by 46%, 29% and 32%*, for example. \\nValeo is regularly recognized for its comprehensive  sustainable development (environmental, social and  \\ngovernance) approach. On January 25, 2021, Corporat e Knights ranked Valeo as the most sustainable comp any \\nin the automotive sector, among the world’s 100 mos t sustainable listed corporations. In 2020, Valeo w as also \\nthe highest rated automotive supplier by non-financ ial rating agencies MSCI (AAA), CDP (A), Sustainaly tics and \\nSAM (76/100). The Group also maintained its leaders hip position in the Dow Jones Sustainability (DJSI)  World \\nindex for the fifth year in a row. \\nFrom this year, Valeo will take into account CO 2 emissions reduction and sustainable development cr iteria when \\ndetermining the variable compensation of more than 1,500 senior executives. \\n* Between 2008 and 2019, consumption as a proportio n of sales. \\nSafe Harbor Statement  \\nStatements contained in this document, which are no t historical fact, constitute “forward-looking stat ements”. \\nThese statements include projections and estimates and their underlying assumptions, statements regard ing \\nprojects, objectives, intentions and expectations w ith respect to future financial results, events, op erations, \\nservices, product development and potential, and st atements regarding future performance. Even though Valeo’s \\nManagement feels that the forward-looking statement s are reasonable as at the date of this document, i nvestors \\nare put on notice that the forward-looking statemen ts are subject to numerous factors, risks and uncer tainties that \\nare difficult to predict and generally beyond Valeo ’s control, which could cause actual results and ev ents to differ \\nmaterially from those expressed or projected in the  forward-looking statements. Such factors include, among \\nothers, the Company’s ability to generate cost savi ngs or manufacturing efficiencies to offset or exce ed \\ncontractually or competitively required price reduc tions. The risks and uncertainties to which Valeo i s exposed \\nmainly comprise the risks resulting from the invest igations currently being carried out by the antitru st authorities \\nas identified in the Universal Registration Documen t, risks which relate to being a supplier in the au tomotive \\nindustry and to the development of new products and  risks due to certain global and regional economic conditions. \\nAlso included are environmental and industrial risk s, risks associated with the Covid-19 epidemic, as well as risks \\nand uncertainties described or identified in the pu blic documents submitted by Valeo to the French fin ancial \\nmarkets authority ( Autorité des marchés financiers  – AMF), including those set out in the “Risk Facto rs” section \\nof the 2019 Universal Registration Document registe red with the AMF on April 28, 2020 (under number D. 20-\\n0385).  \\nThe Company assumes no responsibility for any analy ses issued by analysts and any other information pr epared \\nby third parties which may be used in this document . Valeo does not intend or assume any obligation to  review \\nor to confirm the estimates issued by analysts or t o update any forward-looking statements to reflect events or \\ncircumstances which occur subsequent to the date of  this document.  \\n \\n \\n \\n  \\nValeo is an automotive supplier, partner to all aut omakers worldwide. \\nAs a technology company, Valeo proposes innovative products and \\nsystems that contribute to the reduction of CO 2 emissions and to the \\ndevelopment of intuitive driving. In 2019, the Grou p generated sales of \\n19.5 billion euros and invested 13% of its original  equipment sales in \\nResearch and Development. At December 31, 2020, Val eo had \\n191 plants, 20 research centers, 39 development cen ters and 15 \\ndistribution platforms, and employed 110,300 people  in 33 countries \\nworldwide. Valeo is listed on the Paris Stock Excha nge. \\n Media relation s : \\n+33 7 64 56 85 48 | +33 6 81 73 83 41  \\npress-contact.mailbox@valeo.com   \\n \\nInvestor relations : \\n+33 1 40 55 37 93 \\nvaleo.corporateaccess.mailbox@valeo.com \\n \\nwww.valeo.com   \\n@Valeo_Group \\n ', metadata={'source': '/content/MultiplePDFs/2021_02_04_PR_Carbon_Neutrality_objectives.pdf', 'page': 1})]\n"
          ]
        }
      ]
    },
    {
      "cell_type": "code",
      "source": [
        "#images = convert_from_path(\"/content/MultiplePDFs/\", dpi=88)\n",
        "#len(images)"
      ],
      "metadata": {
        "id": "2q_FSeukUuA_"
      },
      "execution_count": null,
      "outputs": []
    },
    {
      "cell_type": "code",
      "source": [
        "#images[0]"
      ],
      "metadata": {
        "id": "FOCHMvlkU9Cm"
      },
      "execution_count": null,
      "outputs": []
    },
    {
      "cell_type": "code",
      "source": [
        "#images[1]"
      ],
      "metadata": {
        "id": "TXaNCyHbVMvA"
      },
      "execution_count": null,
      "outputs": []
    },
    {
      "cell_type": "code",
      "source": [
        "#loader = PyPDFLoader(\"ms-financial-statement.pdf\")"
      ],
      "metadata": {
        "id": "zoAKQ5rXVPJZ"
      },
      "execution_count": null,
      "outputs": []
    },
    {
      "cell_type": "code",
      "source": [
        "documents = loader.load_and_split() #converted into documents for langchain"
      ],
      "metadata": {
        "id": "spayxuRJVQwm"
      },
      "execution_count": null,
      "outputs": []
    },
    {
      "cell_type": "code",
      "source": [
        "#documents[0]"
      ],
      "metadata": {
        "id": "FmtvekvsVSQD"
      },
      "execution_count": null,
      "outputs": []
    },
    {
      "cell_type": "code",
      "source": [
        "#documents[7]"
      ],
      "metadata": {
        "id": "nKn9h6WvMQh9"
      },
      "execution_count": null,
      "outputs": []
    },
    {
      "cell_type": "code",
      "source": [
        "len(documents)"
      ],
      "metadata": {
        "colab": {
          "base_uri": "https://localhost:8080/"
        },
        "id": "iWwCk0rxVU7G",
        "outputId": "56cd836c-d12a-4f07-91ff-fdcbe30f09aa"
      },
      "execution_count": null,
      "outputs": [
        {
          "output_type": "execute_result",
          "data": {
            "text/plain": [
              "22"
            ]
          },
          "metadata": {},
          "execution_count": 7
        }
      ]
    },
    {
      "cell_type": "code",
      "source": [
        "print(documents[0].page_content)"
      ],
      "metadata": {
        "colab": {
          "base_uri": "https://localhost:8080/"
        },
        "id": "_F6NK16oVWYW",
        "outputId": "5be29448-87ef-4175-8051-be277d2cfc6f"
      },
      "execution_count": null,
      "outputs": [
        {
          "output_type": "stream",
          "name": "stdout",
          "text": [
            "International Journal of Engineering Research and \n",
            "Advanced Technology  (IJERAT)  E-ISSN : 2454-6135 \n",
            "DOI: 10.31695/IJERAT.2020.3625 Volume.6,  Issue 7 \n",
            "July -2020  \n",
            " \n",
            "www.ijerat.com              Page 62 \n",
            "Licensed Under Creative Commons Attribution CC BY Artificial Intelligence in Business \n",
            " \n",
            "Matthew N. O. Sadiku, Omobayode I. Fagbohungbe, and Sarhan M. Musa \n",
            "Roy G. Perry College of Engineering \n",
            "Prairie View A&M University \n",
            "Prairie View, TX, USA \n",
            "_______________________________________________________________________________________________ \n",
            "ABSTRACT \n",
            "Artificial intelligence (AI) is a field of computer science that is dedicated to developing software   dealing with \n",
            "intelligent decisions, reasoning, and problem solving. Artificial intelligence is already part  of our lives, slowly \n",
            "shaping o ur society and business. It is everywhere, in on your smartphones, laptops, and cars. AI can increas e \n",
            "productivity, gain competitive advantage, compliment human intelligence. and reduce cost of oper ations. Businesses \n",
            "of all types and sizes are considering artificial intelligence to solve their pro blems. The scope of AI in business \n",
            "transformation is constantly growing.  This paper provides an introduction on the applications of AI in business. \n",
            "Key Words:  Artificial Intelligence, Artificial Intelligence in Business, Automation.  \n",
            "___________________________________________________________________________________________ \n",
            " \n",
            "1. INTRODUCTION \n",
            " \n",
            "Artificial Intelligence may be regarded as any software program that depicts human intel ligence and consequently has \n",
            "the ability to engage in a humanlike activity. \n",
            "AI tools can enhance decision-making abilities, allowing enterprises to perf orm increasingly complex tasks. They are \n",
            "versatile tools that enable people to rethink how we integrate information, analyze data, and use the resulting insights \n",
            "to improve decision making. \n",
            "  Artificial intelligence (AI) is becoming commonplace in our daily lives. It is now a household name.  Amazon’s \n",
            "virtual assistant Alexa may soon be in every home in America. AI is already disrupting virtually every business \n",
            "process in every industry. \n",
            "AI has become an important technology that supports daily social life and economic ac tivities. In recent years, AI has \n",
            "attracted attention as a key for  economic growth in developed countries such the United States and United Kingdom \n",
            "and developing countries such as China and India [1]. \n",
            "Artificial intelligence (AI)  may be regarded as the intelligence that machines exhibit by imitating human behavior.  It \n",
            "focuses on machine learning and enabling software to solve problems in a manner simila r to human intelligence. For \n",
            "example, computers approve American Express purchases, diagnose faults for GE, and assign rooms for Holiday Inns. \n",
            "Voice recognition, computer vision, and robotics all employ AI [2]. \n",
            " \n",
            "2. OVERVIEW ON ARTIFICIAL INTELLIGENCE \n",
            "Artificial intelligence (AI) is one of the most important global issues of the 21st cent ury. \n",
            "The modern field of artificial intelligence came into existence in 1956 when t he term “artificial intelligence” (AI) was \n",
            "coined by John McCarthy. AI is the branch of computer science that deals with designing intelligent computer  systems \n",
            "that mimic human intelligence. The ability of machines to process natural language, to learn, to plan makes it possible \n",
            "for new tasks to be performed by intelligent systems. The main purpose of AI is to mimic the cognitive function of \n",
            "human beings and perform activities that would typically be performed by a human being . Without being taught by \n",
            "human,  machines use their own experience to solve a problem. Although the original v ision for artificial intelligence\n"
          ]
        }
      ]
    },
    {
      "cell_type": "code",
      "source": [
        "text_splitter = RecursiveCharacterTextSplitter(chunk_size=1024, chunk_overlap=64) #model has only 1000 tokens as limit , it will take both pages and convert it into text\n",
        "texts = text_splitter.split_documents(documents)"
      ],
      "metadata": {
        "id": "BnhnqFKqVX5K"
      },
      "execution_count": null,
      "outputs": []
    },
    {
      "cell_type": "code",
      "source": [
        "len(texts)"
      ],
      "metadata": {
        "colab": {
          "base_uri": "https://localhost:8080/"
        },
        "id": "8yWulKPTVan4",
        "outputId": "4ef22384-021d-4f38-fb72-8b5b7c64c213"
      },
      "execution_count": null,
      "outputs": [
        {
          "output_type": "execute_result",
          "data": {
            "text/plain": [
              "63"
            ]
          },
          "metadata": {},
          "execution_count": 10
        }
      ]
    },
    {
      "cell_type": "code",
      "source": [
        "print(texts[0].page_content)\n",
        "#First page was divided into 2"
      ],
      "metadata": {
        "colab": {
          "base_uri": "https://localhost:8080/"
        },
        "id": "sbOFkOOPVcHK",
        "outputId": "60db9fd6-1563-4997-d966-81c38b987274"
      },
      "execution_count": null,
      "outputs": [
        {
          "output_type": "stream",
          "name": "stdout",
          "text": [
            "International Journal of Engineering Research and \n",
            "Advanced Technology  (IJERAT)  E-ISSN : 2454-6135 \n",
            "DOI: 10.31695/IJERAT.2020.3625 Volume.6,  Issue 7 \n",
            "July -2020  \n",
            " \n",
            "www.ijerat.com              Page 62 \n",
            "Licensed Under Creative Commons Attribution CC BY Artificial Intelligence in Business \n",
            " \n",
            "Matthew N. O. Sadiku, Omobayode I. Fagbohungbe, and Sarhan M. Musa \n",
            "Roy G. Perry College of Engineering \n",
            "Prairie View A&M University \n",
            "Prairie View, TX, USA \n",
            "_______________________________________________________________________________________________ \n",
            "ABSTRACT \n",
            "Artificial intelligence (AI) is a field of computer science that is dedicated to developing software   dealing with \n",
            "intelligent decisions, reasoning, and problem solving. Artificial intelligence is already part  of our lives, slowly \n",
            "shaping o ur society and business. It is everywhere, in on your smartphones, laptops, and cars. AI can increas e \n",
            "productivity, gain competitive advantage, compliment human intelligence. and reduce cost of oper ations. Businesses\n"
          ]
        }
      ]
    },
    {
      "cell_type": "code",
      "source": [
        "#Create Embeddings to search for text\n",
        "embeddings = HuggingFaceEmbeddings(model_name=\"sentence-transformers/all-MiniLM-L6-v2\") #MiniLM created by microsoft\n"
      ],
      "metadata": {
        "id": "KZjfumVVVozQ"
      },
      "execution_count": null,
      "outputs": []
    },
    {
      "cell_type": "code",
      "source": [
        " #to store embeddings in vector database\n",
        "db = Chroma.from_documents(texts, embeddings, persist_directory=\"db\")\n",
        "#db.persists 3shan law 3yza t store it in your disk"
      ],
      "metadata": {
        "colab": {
          "base_uri": "https://localhost:8080/"
        },
        "id": "Y9vT9tRqVua4",
        "outputId": "df9da969-1de2-41b3-9ebc-fdd5e949b208"
      },
      "execution_count": null,
      "outputs": [
        {
          "output_type": "stream",
          "name": "stderr",
          "text": [
            "WARNING:chromadb:Using embedded DuckDB with persistence: data will be stored in: db\n"
          ]
        }
      ]
    },
    {
      "cell_type": "code",
      "source": [
        " #to store embeddings in vector database\n",
        "db = Chroma.from_documents(texts, embeddings, persist_directory=\"db\")\n",
        "#db.persists 3shan law 3yza t store it in your disk"
      ],
      "metadata": {
        "colab": {
          "base_uri": "https://localhost:8080/"
        },
        "id": "o6ZFkgb-Vv0d",
        "outputId": "34b72ee1-b22f-4080-ee24-9f5c0f9cd90f"
      },
      "execution_count": null,
      "outputs": [
        {
          "output_type": "stream",
          "name": "stderr",
          "text": [
            "WARNING:chromadb:Using embedded DuckDB with persistence: data will be stored in: db\n"
          ]
        }
      ]
    },
    {
      "cell_type": "code",
      "source": [
        "#Create Chain\n",
        "#load gpt4all model\n",
        "model_n_ctx = 1000\n",
        "model_path = \"./ggml-gpt4all-j-v1.3-groovy.bin\"\n",
        "llm = GPT4All(model=model_path, n_ctx=1000, backend=\"gptj\", verbose=False)\n",
        "#trauned with gpt-j"
      ],
      "metadata": {
        "id": "yTKy4eE3WO00"
      },
      "execution_count": null,
      "outputs": []
    },
    {
      "cell_type": "code",
      "source": [
        "#Retrieval\n",
        "#we get source of document\n",
        "qa = RetrievalQA.from_chain_type(\n",
        "    llm=llm,\n",
        "    chain_type=\"stuff\",\n",
        "    retriever=db.as_retriever(search_kwargs={\"k\": 3}),\n",
        "    return_source_documents=True,\n",
        "    verbose=False,\n",
        ")"
      ],
      "metadata": {
        "id": "Qfp1RMVcWQXm"
      },
      "execution_count": null,
      "outputs": []
    },
    {
      "cell_type": "code",
      "source": [
        "#docs = retriever.get_relevant_documents(qa)"
      ],
      "metadata": {
        "id": "qgi7VJvjSVj2"
      },
      "execution_count": null,
      "outputs": []
    },
    {
      "cell_type": "code",
      "source": [
        "#Ask Questions\n",
        "%%time\n",
        "res = qa(\n",
        "    \"what is the role of AI in business  .\"\n",
        ")"
      ],
      "metadata": {
        "colab": {
          "base_uri": "https://localhost:8080/"
        },
        "id": "H6Z6pwvjWU0b",
        "outputId": "6e722803-befa-4c03-b77d-3ba2b99a7df0"
      },
      "execution_count": null,
      "outputs": [
        {
          "output_type": "stream",
          "name": "stdout",
          "text": [
            "CPU times: user 12min 32s, sys: 9.94 s, total: 12min 42s\n",
            "Wall time: 3min 28s\n"
          ]
        }
      ]
    },
    {
      "cell_type": "code",
      "source": [
        "res"
      ],
      "metadata": {
        "id": "uvJF0TmEWYdX",
        "colab": {
          "base_uri": "https://localhost:8080/"
        },
        "outputId": "91af1533-af11-497e-b49a-65e7bb3f1788"
      },
      "execution_count": null,
      "outputs": [
        {
          "output_type": "execute_result",
          "data": {
            "text/plain": [
              "{'query': 'what is the role of AI in business  .',\n",
              " 'result': ' AI is a technology that is transforming the way businesses operate. By incorporating AI into their operations, businesses can save time and money, increase efficiency, and improve customer experience. AI can also increase sales, detect fraud, improve human resources, and provide predictive analysis. Businesses can leverage AI to increase productivity and operational efficiencies, drive revenue growth, and stay competitive in the market.',\n",
              " 'source_documents': [Document(page_content='affairs because AI tools  will have substantial impact on the general public in the foreseeable future. Companies \\naround the globe are utilizing AI in order to thrive, provide better solutions to t heir clients, and create new sources of \\nbusiness value. \\n  We are in an era of AI.  It is evident that AI is driving powerful tr ansformations across a variety of industries. \\nBusiness managers may not fully understand AI technology, but they need understand what  it can do for their \\nbusiness. They should learn to integrate AI technology into multiple aspects of t heir business. To get the most out of \\nAI, data scientists must engage with business users to understand their needs and problem s.    More information on \\nartificial intelligence in business can be found in the books in [21-35]  and several other books in Amazon.com and \\nbooks.google.com.  One may also consult a related journal:  Artificial Intelligence Review. \\n \\nREFERENCES', metadata={'source': '/content/MultiplePDFs/Artificial_Intelligence_in_Business.pdf', 'page': 4}),\n",
              "  Document(page_content='logistics,  transportation, and smart cities. \\n \\n4. BENEFIT S \\nMost business leaders are excited about incorporating AI into the company’s business fun ctions i n order to start \\nrealizing its extraordinary benefits.  Companies of all types and sizes are finding ways to use the right artificial \\nintelligence technology to save time and money. In order to meet evolving custom er expectations,  companies are \\nleveraging intelligent technologies to transform the way they operate. \\n  The business benefits of artificial intelligence are many. By deploying t he right AI technology, a business can enjoy \\nthe following benefits [18 ]: \\n\\uf0b7 Save time and money by automating routine or repetitive processes  \\n\\uf0b7 Reduce operational costs, increase efficiency, boost operational efficiency, and i mprove customer \\nexperience \\n\\uf0b7 Increase sales, detect fraud, improve human resources, and provide predictive analysis. \\n\\uf0b7 Increase productivity and operational efficiencies and drive revenue growth', metadata={'source': '/content/MultiplePDFs/Artificial_Intelligence_in_Business.pdf', 'page': 3}),\n",
              "  Document(page_content='University of Oulu, April 2019. \\n[16] M. N. O. Sadiku, M. Tembely, and S. M Musa,”Toward better understanding of business intelli gence,”  Journal \\nof Scientific and Engineering Research,   vol. 3, no. 5, 2016, pp. 89-91. \\n[17]  S. Y. Lee, “Architecture for business intelligence in the healthcare sector,” IOP Conference Series: Materials \\nScience and Engineering,  2018. \\n[18] “Artificial intelligence in business: Business benefits of artificial intell igence,”  \\nhttps://www.nibusinessinfo.co.uk/content/business-benefits-artificial-intelligenc e \\n[19] D. Matskevich , “Preparing your business for the artificial intelligence revolution,” July 2018,  \\nhttps://www.forbes.com/sites/forbestechcouncil/2018/07/12/preparing-your-business-f or-the-artificial-intelligence-\\nrevolution/#39d5037d7ac8 \\n[20] A.  Lauterbach and A. Bonime- Blanc, “ Artificial intelligence: A strategic business and governance imperative,”', metadata={'source': '/content/MultiplePDFs/Artificial_Intelligence_in_Business.pdf', 'page': 5})]}"
            ]
          },
          "metadata": {},
          "execution_count": 18
        }
      ]
    },
    {
      "cell_type": "code",
      "source": [
        "print(res[\"result\"])"
      ],
      "metadata": {
        "colab": {
          "base_uri": "https://localhost:8080/"
        },
        "id": "elwlUoS6ZwTX",
        "outputId": "60839657-b633-4979-9218-5c76c3e4b2bc"
      },
      "execution_count": null,
      "outputs": [
        {
          "output_type": "stream",
          "name": "stdout",
          "text": [
            " Generative AI use cases include many potential use cases across a business, including:\n",
            "\n",
            "* Generating sales copy, including marketing and sales material\n",
            "* Creating social media content or technical sales material, including presentations, demos, and training materials\n",
            "* Optimizing customer support chatbots\n",
            "* Developing custom customer support chatbots\n",
            "* Developing a custom support ticket system\n",
            "* Creating a customer support ticket system that integrates with existing tools\n",
            "* Developing a chatbot for customers who can't access customer support through phone or email\n",
            "* Developing a chatbot for customers who have multiple support inquiries at once\n",
            "* Developing a chatbot for customers who are experiencing issues with multiple products\n",
            "* Developing a chatbot for customers who are experiencing issues with multiple brands\n",
            "* Developing a chatbot for customers who are experiencing issues with multiple brands\n",
            "* Developing a chatbot for customers who are experiencing issues with multiple products\n",
            "* Developing a chatbot for customers who are experiencing issues with multiple brands\n",
            "* Developing a chatbot for customers who are experiencing issues with multiple brands\n",
            "* Developing a chatbot for customers who are experiencing issues with multiple brands\n",
            "* Developing a chatbot for customers who are experiencing issues with multiple brands\n",
            "* Developing\n"
          ]
        }
      ]
    },
    {
      "cell_type": "code",
      "source": [
        "%%time\n",
        "prompt = f\"\"\"How much is the investment amount in Microsoft on 6/22? Extract the answer from the text.\"\"\"\n",
        "res = qa(prompt.strip())"
      ],
      "metadata": {
        "id": "8_3c2Tglc_lH"
      },
      "execution_count": null,
      "outputs": []
    },
    {
      "cell_type": "code",
      "source": [],
      "metadata": {
        "id": "iehLD6uvdFHg"
      },
      "execution_count": null,
      "outputs": []
    }
  ]
}